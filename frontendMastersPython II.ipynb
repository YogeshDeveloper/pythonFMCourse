{
 "cells": [
  {
   "cell_type": "code",
   "execution_count": 1,
   "metadata": {},
   "outputs": [],
   "source": [
    "#printing tips"
   ]
  },
  {
   "cell_type": "code",
   "execution_count": 3,
   "metadata": {},
   "outputs": [
    {
     "name": "stdout",
     "output_type": "stream",
     "text": [
      "Num was equal to 30\n",
      "Value of returned num is: 900\n"
     ]
    },
    {
     "data": {
      "text/plain": [
       "900"
      ]
     },
     "execution_count": 3,
     "metadata": {},
     "output_type": "execute_result"
    }
   ],
   "source": [
    "def mystery():\n",
    "    num = 10*3\n",
    "    \n",
    "    if num == 10:\n",
    "        print(\"Num was equal to 10\")\n",
    "        num = num*10\n",
    "    if num == 20:\n",
    "        print(\"Num was equal to 20\")\n",
    "        num = num*20\n",
    "    if num == 30:\n",
    "        print(\"Num was equal to 30\")\n",
    "        num = num*30\n",
    "        \n",
    "    print(f\"Value of returned num is: {num}\")\n",
    "    return num\n",
    "\n",
    "mystery()"
   ]
  },
  {
   "cell_type": "code",
   "execution_count": 4,
   "metadata": {},
   "outputs": [
    {
     "name": "stdout",
     "output_type": "stream",
     "text": [
      "\n",
      "Extra New Line Before\n",
      "One Print\n",
      " Two New Lines!\n",
      "Extra New Line After\n",
      "\n"
     ]
    }
   ],
   "source": [
    "print(\"\\nExtra New Line Before\")\n",
    "print(\"One Print\\n Two New Lines!\")\n",
    "print(\"Extra New Line After\\n\")"
   ]
  },
  {
   "cell_type": "code",
   "execution_count": 5,
   "metadata": {},
   "outputs": [
    {
     "name": "stdout",
     "output_type": "stream",
     "text": [
      "\t Here's some tabbed output.\n"
     ]
    }
   ],
   "source": [
    "print(\"\\t Here's some tabbed output.\")"
   ]
  },
  {
   "cell_type": "code",
   "execution_count": 6,
   "metadata": {},
   "outputs": [
    {
     "name": "stdout",
     "output_type": "stream",
     "text": [
      "\n",
      "One Print\n",
      "\tOne Tab\n"
     ]
    }
   ],
   "source": [
    "print(\"\\nOne Print\\n\\tOne Tab\")"
   ]
  },
  {
   "cell_type": "code",
   "execution_count": null,
   "metadata": {},
   "outputs": [],
   "source": []
  }
 ],
 "metadata": {
  "kernelspec": {
   "display_name": "Python 3",
   "language": "python",
   "name": "python3"
  },
  "language_info": {
   "codemirror_mode": {
    "name": "ipython",
    "version": 3
   },
   "file_extension": ".py",
   "mimetype": "text/x-python",
   "name": "python",
   "nbconvert_exporter": "python",
   "pygments_lexer": "ipython3",
   "version": "3.7.4"
  }
 },
 "nbformat": 4,
 "nbformat_minor": 2
}
