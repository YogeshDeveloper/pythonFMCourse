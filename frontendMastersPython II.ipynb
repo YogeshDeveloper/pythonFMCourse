{
 "cells": [
  {
   "cell_type": "code",
   "execution_count": 2,
   "metadata": {},
   "outputs": [],
   "source": [
    "#printing tips"
   ]
  },
  {
   "cell_type": "code",
   "execution_count": 3,
   "metadata": {},
   "outputs": [
    {
     "name": "stdout",
     "output_type": "stream",
     "text": [
      "Num was equal to 30\n",
      "Value of returned num is: 900\n"
     ]
    },
    {
     "data": {
      "text/plain": [
       "900"
      ]
     },
     "execution_count": 3,
     "metadata": {},
     "output_type": "execute_result"
    }
   ],
   "source": [
    "def mystery():\n",
    "    num = 10*3\n",
    "    \n",
    "    if num == 10:\n",
    "        print(\"Num was equal to 10\")\n",
    "        num = num*10\n",
    "    if num == 20:\n",
    "        print(\"Num was equal to 20\")\n",
    "        num = num*20\n",
    "    if num == 30:\n",
    "        print(\"Num was equal to 30\")\n",
    "        num = num*30\n",
    "        \n",
    "    print(f\"Value of returned num is: {num}\")\n",
    "    return num\n",
    "\n",
    "mystery()"
   ]
  },
  {
   "cell_type": "code",
   "execution_count": 4,
   "metadata": {},
   "outputs": [
    {
     "name": "stdout",
     "output_type": "stream",
     "text": [
      "\n",
      "Extra New Line Before\n",
      "One Print\n",
      " Two New Lines!\n",
      "Extra New Line After\n",
      "\n"
     ]
    }
   ],
   "source": [
    "print(\"\\nExtra New Line Before\")\n",
    "print(\"One Print\\n Two New Lines!\")\n",
    "print(\"Extra New Line After\\n\")"
   ]
  },
  {
   "cell_type": "code",
   "execution_count": 5,
   "metadata": {},
   "outputs": [
    {
     "name": "stdout",
     "output_type": "stream",
     "text": [
      "\t Here's some tabbed output.\n"
     ]
    }
   ],
   "source": [
    "print(\"\\t Here's some tabbed output.\")"
   ]
  },
  {
   "cell_type": "code",
   "execution_count": 6,
   "metadata": {},
   "outputs": [
    {
     "name": "stdout",
     "output_type": "stream",
     "text": [
      "\n",
      "One Print\n",
      "\tOne Tab\n"
     ]
    }
   ],
   "source": [
    "print(\"\\nOne Print\\n\\tOne Tab\")"
   ]
  },
  {
   "cell_type": "code",
   "execution_count": 7,
   "metadata": {},
   "outputs": [],
   "source": [
    "long_list = list(range(23))"
   ]
  },
  {
   "cell_type": "code",
   "execution_count": 8,
   "metadata": {},
   "outputs": [
    {
     "name": "stdout",
     "output_type": "stream",
     "text": [
      "[0, 1, 2, 3, 4, 5, 6, 7, 8, 9, 10, 11, 12, 13, 14, 15, 16, 17, 18, 19, 20, 21, 22]\n"
     ]
    }
   ],
   "source": [
    "print(long_list)"
   ]
  },
  {
   "cell_type": "code",
   "execution_count": 9,
   "metadata": {},
   "outputs": [
    {
     "name": "stdout",
     "output_type": "stream",
     "text": [
      "[0,\n",
      " 1,\n",
      " 2,\n",
      " 3,\n",
      " 4,\n",
      " 5,\n",
      " 6,\n",
      " 7,\n",
      " 8,\n",
      " 9,\n",
      " 10,\n",
      " 11,\n",
      " 12,\n",
      " 13,\n",
      " 14,\n",
      " 15,\n",
      " 16,\n",
      " 17,\n",
      " 18,\n",
      " 19,\n",
      " 20,\n",
      " 21,\n",
      " 22]\n"
     ]
    }
   ],
   "source": [
    "from pprint import pprint\n",
    "pprint(long_list)"
   ]
  },
  {
   "cell_type": "code",
   "execution_count": 10,
   "metadata": {},
   "outputs": [
    {
     "name": "stdout",
     "output_type": "stream",
     "text": [
      "The lenght is 6 and the uppercase version is:YOGESH\n"
     ]
    }
   ],
   "source": [
    "# the main method \n",
    "\n",
    "def name_length(name):\n",
    "    return len(name)\n",
    "\n",
    "\n",
    "def upper_case_name(name):\n",
    "    return name.upper()\n",
    "\n",
    "def lower_case_name(name):\n",
    "    return name.lower()\n",
    "\n",
    "name = \"Yogesh\"\n",
    "length = name_length(name)\n",
    "upper_case = upper_case_name(name)\n",
    "\n",
    "print(f\"The lenght is {length} and the uppercase version is:{upper_case}\")"
   ]
  },
  {
   "cell_type": "code",
   "execution_count": 17,
   "metadata": {},
   "outputs": [
    {
     "name": "stdout",
     "output_type": "stream",
     "text": [
      "The value of _name_is: Yogesh\n"
     ]
    }
   ],
   "source": [
    "#\n",
    "_name_ = \"Yogesh\"\n",
    "print(f\"The value of _name_is: { _name_ }\")"
   ]
  },
  {
   "cell_type": "code",
   "execution_count": 18,
   "metadata": {},
   "outputs": [
    {
     "ename": "ModuleNotFoundError",
     "evalue": "No module named 'name_lib'",
     "output_type": "error",
     "traceback": [
      "\u001b[0;31m---------------------------------------------------------------------------\u001b[0m",
      "\u001b[0;31mModuleNotFoundError\u001b[0m                       Traceback (most recent call last)",
      "\u001b[0;32m<ipython-input-18-04155712155f>\u001b[0m in \u001b[0;36m<module>\u001b[0;34m\u001b[0m\n\u001b[0;32m----> 1\u001b[0;31m \u001b[0;32mimport\u001b[0m \u001b[0mname_lib\u001b[0m\u001b[0;34m\u001b[0m\u001b[0;34m\u001b[0m\u001b[0m\n\u001b[0m",
      "\u001b[0;31mModuleNotFoundError\u001b[0m: No module named 'name_lib'"
     ]
    }
   ],
   "source": [
    "import name_lib\n"
   ]
  },
  {
   "cell_type": "code",
   "execution_count": null,
   "metadata": {},
   "outputs": [],
   "source": []
  }
 ],
 "metadata": {
  "kernelspec": {
   "display_name": "Python 3",
   "language": "python",
   "name": "python3"
  },
  "language_info": {
   "codemirror_mode": {
    "name": "ipython",
    "version": 3
   },
   "file_extension": ".py",
   "mimetype": "text/x-python",
   "name": "python",
   "nbconvert_exporter": "python",
   "pygments_lexer": "ipython3",
   "version": "3.7.4"
  }
 },
 "nbformat": 4,
 "nbformat_minor": 2
}
